{
  "cells": [
    {
      "cell_type": "markdown",
      "source": [
        "## 1. Read Employee data in sampleEmployee dataframe"
      ],
      "metadata": {
        "nteract": {
          "transient": {
            "deleting": false
          }
        }
      }
    },
    {
      "cell_type": "code",
      "source": [
        "import pandas as pd\r\n",
        "df_pandas = pd.read_csv(\"us-500.csv\")"
      ],
      "outputs": [
        {
          "output_type": "display_data",
          "data": {
            "application/vnd.livy.statement-meta+json": {
              "spark_pool": "dpdevsprkpool01",
              "session_id": 2577,
              "statement_id": 41,
              "state": "finished",
              "livy_statement_state": "available",
              "queued_time": "2022-03-09T17:17:20.1379725Z",
              "session_start_time": null,
              "execution_start_time": "2022-03-09T17:17:20.2416226Z",
              "execution_finish_time": "2022-03-09T17:17:22.0548581Z"
            },
            "text/plain": "StatementMeta(dpdevsprkpool01, 2577, 41, Finished, Available)"
          },
          "metadata": {}
        }
      ],
      "execution_count": 95,
      "metadata": {
        "jupyter": {
          "source_hidden": false,
          "outputs_hidden": false
        },
        "nteract": {
          "transient": {
            "deleting": false
          }
        }
      }
    },
    {
      "cell_type": "markdown",
      "source": [
        "## "
      ],
      "metadata": {
        "nteract": {
          "transient": {
            "deleting": false
          }
        }
      }
    },
    {
      "cell_type": "markdown",
      "source": [
        "## 2. Using this sampleEmployee dataframe create 100X more data points and store it into employeeDF ( this will have 50,000 rows )"
      ],
      "metadata": {
        "nteract": {
          "transient": {
            "deleting": false
          }
        }
      }
    },
    {
      "cell_type": "code",
      "source": [
        "dfEmployee = pd.concat([df_pandas]*100, ignore_index=True)"
      ],
      "outputs": [
        {
          "output_type": "display_data",
          "data": {
            "application/vnd.livy.statement-meta+json": {
              "spark_pool": "dpdevsprkpool01",
              "session_id": 2577,
              "statement_id": 42,
              "state": "finished",
              "livy_statement_state": "available",
              "queued_time": "2022-03-09T17:23:56.1120953Z",
              "session_start_time": null,
              "execution_start_time": "2022-03-09T17:23:56.3173155Z",
              "execution_finish_time": "2022-03-09T17:23:56.4720923Z"
            },
            "text/plain": "StatementMeta(dpdevsprkpool01, 2577, 42, Finished, Available)"
          },
          "metadata": {}
        }
      ],
      "execution_count": 96,
      "metadata": {
        "jupyter": {
          "source_hidden": false,
          "outputs_hidden": false
        },
        "nteract": {
          "transient": {
            "deleting": false
          }
        }
      }
    },
    {
      "cell_type": "markdown",
      "source": [
        "## concat first and last name to get full name"
      ],
      "metadata": {
        "nteract": {
          "transient": {
            "deleting": false
          }
        }
      }
    },
    {
      "cell_type": "code",
      "source": [
        "dfEmployee[\"Emp_Name\"]=dfEmployee[\"first_name\"]+\" \"+dfEmployee[\"last_name\"]"
      ],
      "outputs": [
        {
          "output_type": "display_data",
          "data": {
            "application/vnd.livy.statement-meta+json": {
              "spark_pool": "dpdevsprkpool01",
              "session_id": 2577,
              "statement_id": 43,
              "state": "finished",
              "livy_statement_state": "available",
              "queued_time": "2022-03-09T17:24:01.8334763Z",
              "session_start_time": null,
              "execution_start_time": "2022-03-09T17:24:01.9349157Z",
              "execution_finish_time": "2022-03-09T17:24:02.0797907Z"
            },
            "text/plain": "StatementMeta(dpdevsprkpool01, 2577, 43, Finished, Available)"
          },
          "metadata": {}
        }
      ],
      "execution_count": 97,
      "metadata": {
        "jupyter": {
          "source_hidden": false,
          "outputs_hidden": false
        },
        "nteract": {
          "transient": {
            "deleting": false
          }
        }
      }
    },
    {
      "cell_type": "markdown",
      "source": [
        "## 3. The company has to plan a vaccination drive and the priority will be based on employee population in a particular city\r\n",
        "(Therefore, count the number of employees in each city)"
      ],
      "metadata": {
        "nteract": {
          "transient": {
            "deleting": false
          }
        }
      }
    },
    {
      "cell_type": "code",
      "source": [
        "dfCityEmployeeDensity=dfEmployee.groupby(\"city\")['Emp_Name'].count().reset_index(name='Empcount').sort_values(['Empcount'], ascending=False) "
      ],
      "outputs": [
        {
          "output_type": "display_data",
          "data": {
            "application/vnd.livy.statement-meta+json": {
              "spark_pool": "dpdevsprkpool01",
              "session_id": 2577,
              "statement_id": 44,
              "state": "finished",
              "livy_statement_state": "available",
              "queued_time": "2022-03-09T17:24:07.8132642Z",
              "session_start_time": null,
              "execution_start_time": "2022-03-09T17:24:07.9068811Z",
              "execution_finish_time": "2022-03-09T17:24:08.0626051Z"
            },
            "text/plain": "StatementMeta(dpdevsprkpool01, 2577, 44, Finished, Available)"
          },
          "metadata": {}
        }
      ],
      "execution_count": 98,
      "metadata": {
        "jupyter": {
          "source_hidden": false,
          "outputs_hidden": false
        },
        "nteract": {
          "transient": {
            "deleting": false
          }
        }
      }
    },
    {
      "cell_type": "markdown",
      "source": [
        "## 4.Create a dataframe of CityEmployeeDensity, the 1st city will be the one with maxium number of employees"
      ],
      "metadata": {
        "nteract": {
          "transient": {
            "deleting": false
          }
        }
      }
    },
    {
      "cell_type": "code",
      "source": [
        "dfCityEmployeeDensity[\"Sequence\"]=dfCityEmployeeDensity.Empcount.rank(method='dense', ascending=False).astype(int)\r\n",
        "dfCityEmployeeDensity"
      ],
      "outputs": [
        {
          "output_type": "display_data",
          "data": {
            "application/vnd.livy.statement-meta+json": {
              "spark_pool": "dpdevsprkpool01",
              "session_id": 2577,
              "statement_id": 45,
              "state": "finished",
              "livy_statement_state": "available",
              "queued_time": "2022-03-09T17:24:16.821443Z",
              "session_start_time": null,
              "execution_start_time": "2022-03-09T17:24:16.9164227Z",
              "execution_finish_time": "2022-03-09T17:24:17.0588987Z"
            },
            "text/plain": "StatementMeta(dpdevsprkpool01, 2577, 45, Finished, Available)"
          },
          "metadata": {}
        },
        {
          "output_type": "display_data",
          "data": {
            "text/plain": "             city  Empcount  Sequence\n200      New York      1400         1\n235  Philadelphia       800         2\n62        Chicago       700         3\n184         Miami       600         4\n189     Milwaukee       500         5\n..            ...       ...       ...\n130       Hialeah       100         9\n129      Hazleton       100         9\n127          Hays       100         9\n126      Hatfield       100         9\n341          York       100         9\n\n[342 rows x 3 columns]",
            "text/html": "<div>\n<style scoped>\n    .dataframe tbody tr th:only-of-type {\n        vertical-align: middle;\n    }\n\n    .dataframe tbody tr th {\n        vertical-align: top;\n    }\n\n    .dataframe thead th {\n        text-align: right;\n    }\n</style>\n<table border=\"1\" class=\"dataframe\">\n  <thead>\n    <tr style=\"text-align: right;\">\n      <th></th>\n      <th>city</th>\n      <th>Empcount</th>\n      <th>Sequence</th>\n    </tr>\n  </thead>\n  <tbody>\n    <tr>\n      <th>200</th>\n      <td>New York</td>\n      <td>1400</td>\n      <td>1</td>\n    </tr>\n    <tr>\n      <th>235</th>\n      <td>Philadelphia</td>\n      <td>800</td>\n      <td>2</td>\n    </tr>\n    <tr>\n      <th>62</th>\n      <td>Chicago</td>\n      <td>700</td>\n      <td>3</td>\n    </tr>\n    <tr>\n      <th>184</th>\n      <td>Miami</td>\n      <td>600</td>\n      <td>4</td>\n    </tr>\n    <tr>\n      <th>189</th>\n      <td>Milwaukee</td>\n      <td>500</td>\n      <td>5</td>\n    </tr>\n    <tr>\n      <th>...</th>\n      <td>...</td>\n      <td>...</td>\n      <td>...</td>\n    </tr>\n    <tr>\n      <th>130</th>\n      <td>Hialeah</td>\n      <td>100</td>\n      <td>9</td>\n    </tr>\n    <tr>\n      <th>129</th>\n      <td>Hazleton</td>\n      <td>100</td>\n      <td>9</td>\n    </tr>\n    <tr>\n      <th>127</th>\n      <td>Hays</td>\n      <td>100</td>\n      <td>9</td>\n    </tr>\n    <tr>\n      <th>126</th>\n      <td>Hatfield</td>\n      <td>100</td>\n      <td>9</td>\n    </tr>\n    <tr>\n      <th>341</th>\n      <td>York</td>\n      <td>100</td>\n      <td>9</td>\n    </tr>\n  </tbody>\n</table>\n<p>342 rows × 3 columns</p>\n</div>"
          },
          "metadata": {}
        }
      ],
      "execution_count": 99,
      "metadata": {
        "jupyter": {
          "source_hidden": false,
          "outputs_hidden": false
        },
        "nteract": {
          "transient": {
            "deleting": false
          }
        }
      }
    },
    {
      "cell_type": "markdown",
      "source": [
        "## 5. Please create new dataframe by name \"VaccinationDrivePlan\" with all columns from employeeDF and additional column \"Sequence\" \r\n",
        "## 6. In Sequence Column populate the value from the CityEmployeeDensity Dataframe. Print this dataframe "
      ],
      "metadata": {
        "nteract": {
          "transient": {
            "deleting": false
          }
        }
      }
    },
    {
      "cell_type": "code",
      "source": [
        "dfVaccinationDrivePlan=dfEmployee.merge(dfCityEmployeeDensity, on='city', how='left')"
      ],
      "outputs": [
        {
          "output_type": "display_data",
          "data": {
            "application/vnd.livy.statement-meta+json": {
              "spark_pool": "dpdevsprkpool01",
              "session_id": 2577,
              "statement_id": 46,
              "state": "finished",
              "livy_statement_state": "available",
              "queued_time": "2022-03-09T17:25:26.1547254Z",
              "session_start_time": null,
              "execution_start_time": "2022-03-09T17:25:26.3416806Z",
              "execution_finish_time": "2022-03-09T17:25:26.504015Z"
            },
            "text/plain": "StatementMeta(dpdevsprkpool01, 2577, 46, Finished, Available)"
          },
          "metadata": {}
        }
      ],
      "execution_count": 100,
      "metadata": {
        "jupyter": {
          "source_hidden": false,
          "outputs_hidden": false
        },
        "nteract": {
          "transient": {
            "deleting": false
          }
        }
      }
    },
    {
      "cell_type": "code",
      "source": [
        "dfVaccinationplan=dfVaccinationDrivePlan.sort_values(['Sequence'])\r\n",
        "dfVaccinationplan"
      ],
      "outputs": [
        {
          "output_type": "display_data",
          "data": {
            "application/vnd.livy.statement-meta+json": {
              "spark_pool": "dpdevsprkpool01",
              "session_id": 2577,
              "statement_id": 47,
              "state": "finished",
              "livy_statement_state": "available",
              "queued_time": "2022-03-09T17:25:27.8963446Z",
              "session_start_time": null,
              "execution_start_time": "2022-03-09T17:25:27.9886947Z",
              "execution_finish_time": "2022-03-09T17:25:28.1422826Z"
            },
            "text/plain": "StatementMeta(dpdevsprkpool01, 2577, 47, Finished, Available)"
          },
          "metadata": {}
        },
        {
          "output_type": "display_data",
          "data": {
            "text/plain": "      first_name  last_name  ... Empcount Sequence\n3065       Tawna     Buvens  ...     1400        1\n42326     Derick     Dhamer  ...     1400        1\n35534    Alishia      Sergi  ...     1400        1\n16565      Tawna     Buvens  ...     1400        1\n4675       Layla    Springe  ...     1400        1\n...          ...        ...  ...      ...      ...\n27803      Olive   Matuszak  ...      100        9\n10851     Weldon      Acuff  ...      100        9\n27800   Kristeen  Turinetti  ...      100        9\n10848     Samira  Heintzman  ...      100        9\n6133     Thurman      Manno  ...      100        9\n\n[50000 rows x 15 columns]",
            "text/html": "<div>\n<style scoped>\n    .dataframe tbody tr th:only-of-type {\n        vertical-align: middle;\n    }\n\n    .dataframe tbody tr th {\n        vertical-align: top;\n    }\n\n    .dataframe thead th {\n        text-align: right;\n    }\n</style>\n<table border=\"1\" class=\"dataframe\">\n  <thead>\n    <tr style=\"text-align: right;\">\n      <th></th>\n      <th>first_name</th>\n      <th>last_name</th>\n      <th>company_name</th>\n      <th>address</th>\n      <th>city</th>\n      <th>county</th>\n      <th>state</th>\n      <th>zip</th>\n      <th>phone1</th>\n      <th>phone2</th>\n      <th>email</th>\n      <th>web</th>\n      <th>Emp_Name</th>\n      <th>Empcount</th>\n      <th>Sequence</th>\n    </tr>\n  </thead>\n  <tbody>\n    <tr>\n      <th>3065</th>\n      <td>Tawna</td>\n      <td>Buvens</td>\n      <td>H H H Enterprises Inc</td>\n      <td>3305 Nabell Ave #679</td>\n      <td>New York</td>\n      <td>New York</td>\n      <td>NY</td>\n      <td>10009</td>\n      <td>212-674-9610</td>\n      <td>212-462-9157</td>\n      <td>tawna@gmail.com</td>\n      <td>http://www.hhhenterprisesinc.com</td>\n      <td>Tawna Buvens</td>\n      <td>1400</td>\n      <td>1</td>\n    </tr>\n    <tr>\n      <th>42326</th>\n      <td>Derick</td>\n      <td>Dhamer</td>\n      <td>Studer, Eugene A Esq</td>\n      <td>87163 N Main Ave</td>\n      <td>New York</td>\n      <td>New York</td>\n      <td>NY</td>\n      <td>10013</td>\n      <td>212-304-4515</td>\n      <td>212-225-9676</td>\n      <td>ddhamer@cox.net</td>\n      <td>http://www.studereugeneaesq.com</td>\n      <td>Derick Dhamer</td>\n      <td>1400</td>\n      <td>1</td>\n    </tr>\n    <tr>\n      <th>35534</th>\n      <td>Alishia</td>\n      <td>Sergi</td>\n      <td>Milford Enterprises Inc</td>\n      <td>2742 Distribution Way</td>\n      <td>New York</td>\n      <td>New York</td>\n      <td>NY</td>\n      <td>10025</td>\n      <td>212-860-1579</td>\n      <td>212-753-2740</td>\n      <td>asergi@gmail.com</td>\n      <td>http://www.milfordenterprisesinc.com</td>\n      <td>Alishia Sergi</td>\n      <td>1400</td>\n      <td>1</td>\n    </tr>\n    <tr>\n      <th>16565</th>\n      <td>Tawna</td>\n      <td>Buvens</td>\n      <td>H H H Enterprises Inc</td>\n      <td>3305 Nabell Ave #679</td>\n      <td>New York</td>\n      <td>New York</td>\n      <td>NY</td>\n      <td>10009</td>\n      <td>212-674-9610</td>\n      <td>212-462-9157</td>\n      <td>tawna@gmail.com</td>\n      <td>http://www.hhhenterprisesinc.com</td>\n      <td>Tawna Buvens</td>\n      <td>1400</td>\n      <td>1</td>\n    </tr>\n    <tr>\n      <th>4675</th>\n      <td>Layla</td>\n      <td>Springe</td>\n      <td>Chadds Ford Winery</td>\n      <td>229 N Forty Driv</td>\n      <td>New York</td>\n      <td>New York</td>\n      <td>NY</td>\n      <td>10011</td>\n      <td>212-260-3151</td>\n      <td>212-253-7448</td>\n      <td>layla.springe@cox.net</td>\n      <td>http://www.chaddsfordwinery.com</td>\n      <td>Layla Springe</td>\n      <td>1400</td>\n      <td>1</td>\n    </tr>\n    <tr>\n      <th>...</th>\n      <td>...</td>\n      <td>...</td>\n      <td>...</td>\n      <td>...</td>\n      <td>...</td>\n      <td>...</td>\n      <td>...</td>\n      <td>...</td>\n      <td>...</td>\n      <td>...</td>\n      <td>...</td>\n      <td>...</td>\n      <td>...</td>\n      <td>...</td>\n      <td>...</td>\n    </tr>\n    <tr>\n      <th>27803</th>\n      <td>Olive</td>\n      <td>Matuszak</td>\n      <td>Colony Paints Sales Ofc &amp; Plnt</td>\n      <td>13252 Lighthouse Ave</td>\n      <td>Cathedral City</td>\n      <td>Riverside</td>\n      <td>CA</td>\n      <td>92234</td>\n      <td>760-938-6069</td>\n      <td>760-745-2649</td>\n      <td>olive@aol.com</td>\n      <td>http://www.colonypaintssalesofcplnt.com</td>\n      <td>Olive Matuszak</td>\n      <td>100</td>\n      <td>9</td>\n    </tr>\n    <tr>\n      <th>10851</th>\n      <td>Weldon</td>\n      <td>Acuff</td>\n      <td>Advantage Martgage Company</td>\n      <td>73 W Barstow Ave</td>\n      <td>Arlington Heights</td>\n      <td>Cook</td>\n      <td>IL</td>\n      <td>60004</td>\n      <td>847-353-2156</td>\n      <td>847-613-5866</td>\n      <td>wacuff@gmail.com</td>\n      <td>http://www.advantagemartgagecompany.com</td>\n      <td>Weldon Acuff</td>\n      <td>100</td>\n      <td>9</td>\n    </tr>\n    <tr>\n      <th>27800</th>\n      <td>Kristeen</td>\n      <td>Turinetti</td>\n      <td>Jeanerette Middle School</td>\n      <td>70099 E North Ave</td>\n      <td>Arlington</td>\n      <td>Tarrant</td>\n      <td>TX</td>\n      <td>76013</td>\n      <td>817-213-8851</td>\n      <td>817-947-9480</td>\n      <td>kristeen@gmail.com</td>\n      <td>http://www.jeanerettemiddleschool.com</td>\n      <td>Kristeen Turinetti</td>\n      <td>100</td>\n      <td>9</td>\n    </tr>\n    <tr>\n      <th>10848</th>\n      <td>Samira</td>\n      <td>Heintzman</td>\n      <td>Mutual Fish Co</td>\n      <td>8772 Old County Rd #5410</td>\n      <td>Kent</td>\n      <td>King</td>\n      <td>WA</td>\n      <td>98032</td>\n      <td>206-311-4137</td>\n      <td>206-923-6042</td>\n      <td>sheintzman@hotmail.com</td>\n      <td>http://www.mutualfishco.com</td>\n      <td>Samira Heintzman</td>\n      <td>100</td>\n      <td>9</td>\n    </tr>\n    <tr>\n      <th>6133</th>\n      <td>Thurman</td>\n      <td>Manno</td>\n      <td>Honey Bee Breeding Genetics &amp;</td>\n      <td>9387 Charcot Ave</td>\n      <td>Absecon</td>\n      <td>Atlantic</td>\n      <td>NJ</td>\n      <td>08201</td>\n      <td>609-524-3586</td>\n      <td>609-234-8376</td>\n      <td>thurman.manno@yahoo.com</td>\n      <td>http://www.honeybeebreedinggenetics.com</td>\n      <td>Thurman Manno</td>\n      <td>100</td>\n      <td>9</td>\n    </tr>\n  </tbody>\n</table>\n<p>50000 rows × 15 columns</p>\n</div>"
          },
          "metadata": {}
        }
      ],
      "execution_count": 101,
      "metadata": {
        "jupyter": {
          "source_hidden": false,
          "outputs_hidden": false
        },
        "nteract": {
          "transient": {
            "deleting": false
          }
        }
      }
    },
    {
      "cell_type": "markdown",
      "source": [
        "## Create sequence ID based on sequence column to group 100 emloyees for vaccination"
      ],
      "metadata": {
        "nteract": {
          "transient": {
            "deleting": false
          }
        }
      }
    },
    {
      "cell_type": "code",
      "source": [
        "dfVaccinationplan.insert(0, 'SquenceID', range(1, 1+len(dfVaccinationplan)))\r\n",
        "dfVaccinationplan"
      ],
      "outputs": [
        {
          "output_type": "display_data",
          "data": {
            "application/vnd.livy.statement-meta+json": {
              "spark_pool": "dpdevsprkpool01",
              "session_id": 2577,
              "statement_id": 48,
              "state": "finished",
              "livy_statement_state": "available",
              "queued_time": "2022-03-09T17:27:21.4144108Z",
              "session_start_time": null,
              "execution_start_time": "2022-03-09T17:27:21.5356323Z",
              "execution_finish_time": "2022-03-09T17:27:21.6882895Z"
            },
            "text/plain": "StatementMeta(dpdevsprkpool01, 2577, 48, Finished, Available)"
          },
          "metadata": {}
        },
        {
          "output_type": "display_data",
          "data": {
            "text/plain": "       SquenceID first_name  last_name  ...            Emp_Name Empcount Sequence\n3065           1      Tawna     Buvens  ...        Tawna Buvens     1400        1\n42326          2     Derick     Dhamer  ...       Derick Dhamer     1400        1\n35534          3    Alishia      Sergi  ...       Alishia Sergi     1400        1\n16565          4      Tawna     Buvens  ...        Tawna Buvens     1400        1\n4675           5      Layla    Springe  ...       Layla Springe     1400        1\n...          ...        ...        ...  ...                 ...      ...      ...\n27803      49996      Olive   Matuszak  ...      Olive Matuszak      100        9\n10851      49997     Weldon      Acuff  ...        Weldon Acuff      100        9\n27800      49998   Kristeen  Turinetti  ...  Kristeen Turinetti      100        9\n10848      49999     Samira  Heintzman  ...    Samira Heintzman      100        9\n6133       50000    Thurman      Manno  ...       Thurman Manno      100        9\n\n[50000 rows x 16 columns]",
            "text/html": "<div>\n<style scoped>\n    .dataframe tbody tr th:only-of-type {\n        vertical-align: middle;\n    }\n\n    .dataframe tbody tr th {\n        vertical-align: top;\n    }\n\n    .dataframe thead th {\n        text-align: right;\n    }\n</style>\n<table border=\"1\" class=\"dataframe\">\n  <thead>\n    <tr style=\"text-align: right;\">\n      <th></th>\n      <th>SquenceID</th>\n      <th>first_name</th>\n      <th>last_name</th>\n      <th>company_name</th>\n      <th>address</th>\n      <th>city</th>\n      <th>county</th>\n      <th>state</th>\n      <th>zip</th>\n      <th>phone1</th>\n      <th>phone2</th>\n      <th>email</th>\n      <th>web</th>\n      <th>Emp_Name</th>\n      <th>Empcount</th>\n      <th>Sequence</th>\n    </tr>\n  </thead>\n  <tbody>\n    <tr>\n      <th>3065</th>\n      <td>1</td>\n      <td>Tawna</td>\n      <td>Buvens</td>\n      <td>H H H Enterprises Inc</td>\n      <td>3305 Nabell Ave #679</td>\n      <td>New York</td>\n      <td>New York</td>\n      <td>NY</td>\n      <td>10009</td>\n      <td>212-674-9610</td>\n      <td>212-462-9157</td>\n      <td>tawna@gmail.com</td>\n      <td>http://www.hhhenterprisesinc.com</td>\n      <td>Tawna Buvens</td>\n      <td>1400</td>\n      <td>1</td>\n    </tr>\n    <tr>\n      <th>42326</th>\n      <td>2</td>\n      <td>Derick</td>\n      <td>Dhamer</td>\n      <td>Studer, Eugene A Esq</td>\n      <td>87163 N Main Ave</td>\n      <td>New York</td>\n      <td>New York</td>\n      <td>NY</td>\n      <td>10013</td>\n      <td>212-304-4515</td>\n      <td>212-225-9676</td>\n      <td>ddhamer@cox.net</td>\n      <td>http://www.studereugeneaesq.com</td>\n      <td>Derick Dhamer</td>\n      <td>1400</td>\n      <td>1</td>\n    </tr>\n    <tr>\n      <th>35534</th>\n      <td>3</td>\n      <td>Alishia</td>\n      <td>Sergi</td>\n      <td>Milford Enterprises Inc</td>\n      <td>2742 Distribution Way</td>\n      <td>New York</td>\n      <td>New York</td>\n      <td>NY</td>\n      <td>10025</td>\n      <td>212-860-1579</td>\n      <td>212-753-2740</td>\n      <td>asergi@gmail.com</td>\n      <td>http://www.milfordenterprisesinc.com</td>\n      <td>Alishia Sergi</td>\n      <td>1400</td>\n      <td>1</td>\n    </tr>\n    <tr>\n      <th>16565</th>\n      <td>4</td>\n      <td>Tawna</td>\n      <td>Buvens</td>\n      <td>H H H Enterprises Inc</td>\n      <td>3305 Nabell Ave #679</td>\n      <td>New York</td>\n      <td>New York</td>\n      <td>NY</td>\n      <td>10009</td>\n      <td>212-674-9610</td>\n      <td>212-462-9157</td>\n      <td>tawna@gmail.com</td>\n      <td>http://www.hhhenterprisesinc.com</td>\n      <td>Tawna Buvens</td>\n      <td>1400</td>\n      <td>1</td>\n    </tr>\n    <tr>\n      <th>4675</th>\n      <td>5</td>\n      <td>Layla</td>\n      <td>Springe</td>\n      <td>Chadds Ford Winery</td>\n      <td>229 N Forty Driv</td>\n      <td>New York</td>\n      <td>New York</td>\n      <td>NY</td>\n      <td>10011</td>\n      <td>212-260-3151</td>\n      <td>212-253-7448</td>\n      <td>layla.springe@cox.net</td>\n      <td>http://www.chaddsfordwinery.com</td>\n      <td>Layla Springe</td>\n      <td>1400</td>\n      <td>1</td>\n    </tr>\n    <tr>\n      <th>...</th>\n      <td>...</td>\n      <td>...</td>\n      <td>...</td>\n      <td>...</td>\n      <td>...</td>\n      <td>...</td>\n      <td>...</td>\n      <td>...</td>\n      <td>...</td>\n      <td>...</td>\n      <td>...</td>\n      <td>...</td>\n      <td>...</td>\n      <td>...</td>\n      <td>...</td>\n      <td>...</td>\n    </tr>\n    <tr>\n      <th>27803</th>\n      <td>49996</td>\n      <td>Olive</td>\n      <td>Matuszak</td>\n      <td>Colony Paints Sales Ofc &amp; Plnt</td>\n      <td>13252 Lighthouse Ave</td>\n      <td>Cathedral City</td>\n      <td>Riverside</td>\n      <td>CA</td>\n      <td>92234</td>\n      <td>760-938-6069</td>\n      <td>760-745-2649</td>\n      <td>olive@aol.com</td>\n      <td>http://www.colonypaintssalesofcplnt.com</td>\n      <td>Olive Matuszak</td>\n      <td>100</td>\n      <td>9</td>\n    </tr>\n    <tr>\n      <th>10851</th>\n      <td>49997</td>\n      <td>Weldon</td>\n      <td>Acuff</td>\n      <td>Advantage Martgage Company</td>\n      <td>73 W Barstow Ave</td>\n      <td>Arlington Heights</td>\n      <td>Cook</td>\n      <td>IL</td>\n      <td>60004</td>\n      <td>847-353-2156</td>\n      <td>847-613-5866</td>\n      <td>wacuff@gmail.com</td>\n      <td>http://www.advantagemartgagecompany.com</td>\n      <td>Weldon Acuff</td>\n      <td>100</td>\n      <td>9</td>\n    </tr>\n    <tr>\n      <th>27800</th>\n      <td>49998</td>\n      <td>Kristeen</td>\n      <td>Turinetti</td>\n      <td>Jeanerette Middle School</td>\n      <td>70099 E North Ave</td>\n      <td>Arlington</td>\n      <td>Tarrant</td>\n      <td>TX</td>\n      <td>76013</td>\n      <td>817-213-8851</td>\n      <td>817-947-9480</td>\n      <td>kristeen@gmail.com</td>\n      <td>http://www.jeanerettemiddleschool.com</td>\n      <td>Kristeen Turinetti</td>\n      <td>100</td>\n      <td>9</td>\n    </tr>\n    <tr>\n      <th>10848</th>\n      <td>49999</td>\n      <td>Samira</td>\n      <td>Heintzman</td>\n      <td>Mutual Fish Co</td>\n      <td>8772 Old County Rd #5410</td>\n      <td>Kent</td>\n      <td>King</td>\n      <td>WA</td>\n      <td>98032</td>\n      <td>206-311-4137</td>\n      <td>206-923-6042</td>\n      <td>sheintzman@hotmail.com</td>\n      <td>http://www.mutualfishco.com</td>\n      <td>Samira Heintzman</td>\n      <td>100</td>\n      <td>9</td>\n    </tr>\n    <tr>\n      <th>6133</th>\n      <td>50000</td>\n      <td>Thurman</td>\n      <td>Manno</td>\n      <td>Honey Bee Breeding Genetics &amp;</td>\n      <td>9387 Charcot Ave</td>\n      <td>Absecon</td>\n      <td>Atlantic</td>\n      <td>NJ</td>\n      <td>08201</td>\n      <td>609-524-3586</td>\n      <td>609-234-8376</td>\n      <td>thurman.manno@yahoo.com</td>\n      <td>http://www.honeybeebreedinggenetics.com</td>\n      <td>Thurman Manno</td>\n      <td>100</td>\n      <td>9</td>\n    </tr>\n  </tbody>\n</table>\n<p>50000 rows × 16 columns</p>\n</div>"
          },
          "metadata": {}
        }
      ],
      "execution_count": 102,
      "metadata": {
        "jupyter": {
          "source_hidden": false,
          "outputs_hidden": false
        },
        "nteract": {
          "transient": {
            "deleting": false
          }
        }
      }
    },
    {
      "cell_type": "markdown",
      "source": [
        "## Added a column Day to show vaccination plan "
      ],
      "metadata": {
        "nteract": {
          "transient": {
            "deleting": false
          }
        }
      }
    },
    {
      "cell_type": "code",
      "source": [
        "dfVaccinationplan[\"VaccinationDay\"]=pd.qcut(dfVaccinationplan.SquenceID,q=500, labels=range(1, 500+1))\r\n",
        "dfVaccinationplan"
      ],
      "outputs": [
        {
          "output_type": "display_data",
          "data": {
            "application/vnd.livy.statement-meta+json": {
              "spark_pool": "dpdevsprkpool01",
              "session_id": 2577,
              "statement_id": 49,
              "state": "finished",
              "livy_statement_state": "available",
              "queued_time": "2022-03-09T17:28:21.9860068Z",
              "session_start_time": null,
              "execution_start_time": "2022-03-09T17:28:22.0879483Z",
              "execution_finish_time": "2022-03-09T17:28:22.2365474Z"
            },
            "text/plain": "StatementMeta(dpdevsprkpool01, 2577, 49, Finished, Available)"
          },
          "metadata": {}
        },
        {
          "output_type": "display_data",
          "data": {
            "text/plain": "       SquenceID first_name  last_name  ... Empcount Sequence VaccinationDay\n3065           1      Tawna     Buvens  ...     1400        1              1\n42326          2     Derick     Dhamer  ...     1400        1              1\n35534          3    Alishia      Sergi  ...     1400        1              1\n16565          4      Tawna     Buvens  ...     1400        1              1\n4675           5      Layla    Springe  ...     1400        1              1\n...          ...        ...        ...  ...      ...      ...            ...\n27803      49996      Olive   Matuszak  ...      100        9            500\n10851      49997     Weldon      Acuff  ...      100        9            500\n27800      49998   Kristeen  Turinetti  ...      100        9            500\n10848      49999     Samira  Heintzman  ...      100        9            500\n6133       50000    Thurman      Manno  ...      100        9            500\n\n[50000 rows x 17 columns]",
            "text/html": "<div>\n<style scoped>\n    .dataframe tbody tr th:only-of-type {\n        vertical-align: middle;\n    }\n\n    .dataframe tbody tr th {\n        vertical-align: top;\n    }\n\n    .dataframe thead th {\n        text-align: right;\n    }\n</style>\n<table border=\"1\" class=\"dataframe\">\n  <thead>\n    <tr style=\"text-align: right;\">\n      <th></th>\n      <th>SquenceID</th>\n      <th>first_name</th>\n      <th>last_name</th>\n      <th>company_name</th>\n      <th>address</th>\n      <th>city</th>\n      <th>county</th>\n      <th>state</th>\n      <th>zip</th>\n      <th>phone1</th>\n      <th>phone2</th>\n      <th>email</th>\n      <th>web</th>\n      <th>Emp_Name</th>\n      <th>Empcount</th>\n      <th>Sequence</th>\n      <th>VaccinationDay</th>\n    </tr>\n  </thead>\n  <tbody>\n    <tr>\n      <th>3065</th>\n      <td>1</td>\n      <td>Tawna</td>\n      <td>Buvens</td>\n      <td>H H H Enterprises Inc</td>\n      <td>3305 Nabell Ave #679</td>\n      <td>New York</td>\n      <td>New York</td>\n      <td>NY</td>\n      <td>10009</td>\n      <td>212-674-9610</td>\n      <td>212-462-9157</td>\n      <td>tawna@gmail.com</td>\n      <td>http://www.hhhenterprisesinc.com</td>\n      <td>Tawna Buvens</td>\n      <td>1400</td>\n      <td>1</td>\n      <td>1</td>\n    </tr>\n    <tr>\n      <th>42326</th>\n      <td>2</td>\n      <td>Derick</td>\n      <td>Dhamer</td>\n      <td>Studer, Eugene A Esq</td>\n      <td>87163 N Main Ave</td>\n      <td>New York</td>\n      <td>New York</td>\n      <td>NY</td>\n      <td>10013</td>\n      <td>212-304-4515</td>\n      <td>212-225-9676</td>\n      <td>ddhamer@cox.net</td>\n      <td>http://www.studereugeneaesq.com</td>\n      <td>Derick Dhamer</td>\n      <td>1400</td>\n      <td>1</td>\n      <td>1</td>\n    </tr>\n    <tr>\n      <th>35534</th>\n      <td>3</td>\n      <td>Alishia</td>\n      <td>Sergi</td>\n      <td>Milford Enterprises Inc</td>\n      <td>2742 Distribution Way</td>\n      <td>New York</td>\n      <td>New York</td>\n      <td>NY</td>\n      <td>10025</td>\n      <td>212-860-1579</td>\n      <td>212-753-2740</td>\n      <td>asergi@gmail.com</td>\n      <td>http://www.milfordenterprisesinc.com</td>\n      <td>Alishia Sergi</td>\n      <td>1400</td>\n      <td>1</td>\n      <td>1</td>\n    </tr>\n    <tr>\n      <th>16565</th>\n      <td>4</td>\n      <td>Tawna</td>\n      <td>Buvens</td>\n      <td>H H H Enterprises Inc</td>\n      <td>3305 Nabell Ave #679</td>\n      <td>New York</td>\n      <td>New York</td>\n      <td>NY</td>\n      <td>10009</td>\n      <td>212-674-9610</td>\n      <td>212-462-9157</td>\n      <td>tawna@gmail.com</td>\n      <td>http://www.hhhenterprisesinc.com</td>\n      <td>Tawna Buvens</td>\n      <td>1400</td>\n      <td>1</td>\n      <td>1</td>\n    </tr>\n    <tr>\n      <th>4675</th>\n      <td>5</td>\n      <td>Layla</td>\n      <td>Springe</td>\n      <td>Chadds Ford Winery</td>\n      <td>229 N Forty Driv</td>\n      <td>New York</td>\n      <td>New York</td>\n      <td>NY</td>\n      <td>10011</td>\n      <td>212-260-3151</td>\n      <td>212-253-7448</td>\n      <td>layla.springe@cox.net</td>\n      <td>http://www.chaddsfordwinery.com</td>\n      <td>Layla Springe</td>\n      <td>1400</td>\n      <td>1</td>\n      <td>1</td>\n    </tr>\n    <tr>\n      <th>...</th>\n      <td>...</td>\n      <td>...</td>\n      <td>...</td>\n      <td>...</td>\n      <td>...</td>\n      <td>...</td>\n      <td>...</td>\n      <td>...</td>\n      <td>...</td>\n      <td>...</td>\n      <td>...</td>\n      <td>...</td>\n      <td>...</td>\n      <td>...</td>\n      <td>...</td>\n      <td>...</td>\n      <td>...</td>\n    </tr>\n    <tr>\n      <th>27803</th>\n      <td>49996</td>\n      <td>Olive</td>\n      <td>Matuszak</td>\n      <td>Colony Paints Sales Ofc &amp; Plnt</td>\n      <td>13252 Lighthouse Ave</td>\n      <td>Cathedral City</td>\n      <td>Riverside</td>\n      <td>CA</td>\n      <td>92234</td>\n      <td>760-938-6069</td>\n      <td>760-745-2649</td>\n      <td>olive@aol.com</td>\n      <td>http://www.colonypaintssalesofcplnt.com</td>\n      <td>Olive Matuszak</td>\n      <td>100</td>\n      <td>9</td>\n      <td>500</td>\n    </tr>\n    <tr>\n      <th>10851</th>\n      <td>49997</td>\n      <td>Weldon</td>\n      <td>Acuff</td>\n      <td>Advantage Martgage Company</td>\n      <td>73 W Barstow Ave</td>\n      <td>Arlington Heights</td>\n      <td>Cook</td>\n      <td>IL</td>\n      <td>60004</td>\n      <td>847-353-2156</td>\n      <td>847-613-5866</td>\n      <td>wacuff@gmail.com</td>\n      <td>http://www.advantagemartgagecompany.com</td>\n      <td>Weldon Acuff</td>\n      <td>100</td>\n      <td>9</td>\n      <td>500</td>\n    </tr>\n    <tr>\n      <th>27800</th>\n      <td>49998</td>\n      <td>Kristeen</td>\n      <td>Turinetti</td>\n      <td>Jeanerette Middle School</td>\n      <td>70099 E North Ave</td>\n      <td>Arlington</td>\n      <td>Tarrant</td>\n      <td>TX</td>\n      <td>76013</td>\n      <td>817-213-8851</td>\n      <td>817-947-9480</td>\n      <td>kristeen@gmail.com</td>\n      <td>http://www.jeanerettemiddleschool.com</td>\n      <td>Kristeen Turinetti</td>\n      <td>100</td>\n      <td>9</td>\n      <td>500</td>\n    </tr>\n    <tr>\n      <th>10848</th>\n      <td>49999</td>\n      <td>Samira</td>\n      <td>Heintzman</td>\n      <td>Mutual Fish Co</td>\n      <td>8772 Old County Rd #5410</td>\n      <td>Kent</td>\n      <td>King</td>\n      <td>WA</td>\n      <td>98032</td>\n      <td>206-311-4137</td>\n      <td>206-923-6042</td>\n      <td>sheintzman@hotmail.com</td>\n      <td>http://www.mutualfishco.com</td>\n      <td>Samira Heintzman</td>\n      <td>100</td>\n      <td>9</td>\n      <td>500</td>\n    </tr>\n    <tr>\n      <th>6133</th>\n      <td>50000</td>\n      <td>Thurman</td>\n      <td>Manno</td>\n      <td>Honey Bee Breeding Genetics &amp;</td>\n      <td>9387 Charcot Ave</td>\n      <td>Absecon</td>\n      <td>Atlantic</td>\n      <td>NJ</td>\n      <td>08201</td>\n      <td>609-524-3586</td>\n      <td>609-234-8376</td>\n      <td>thurman.manno@yahoo.com</td>\n      <td>http://www.honeybeebreedinggenetics.com</td>\n      <td>Thurman Manno</td>\n      <td>100</td>\n      <td>9</td>\n      <td>500</td>\n    </tr>\n  </tbody>\n</table>\n<p>50000 rows × 17 columns</p>\n</div>"
          },
          "metadata": {}
        }
      ],
      "execution_count": 103,
      "metadata": {
        "jupyter": {
          "source_hidden": false,
          "outputs_hidden": false
        },
        "nteract": {
          "transient": {
            "deleting": false
          }
        }
      }
    },
    {
      "cell_type": "markdown",
      "source": [
        "## vaccination days per city"
      ],
      "metadata": {
        "nteract": {
          "transient": {
            "deleting": false
          }
        }
      }
    },
    {
      "cell_type": "code",
      "source": [
        "dfVaccinationdayspercity=dfVaccinationplan.groupby(\"city\").VaccinationDay.nunique()\r\n",
        "dfVaccinationdayspercity"
      ],
      "outputs": [
        {
          "output_type": "display_data",
          "data": {
            "application/vnd.livy.statement-meta+json": {
              "spark_pool": "dpdevsprkpool01",
              "session_id": 2577,
              "statement_id": 53,
              "state": "finished",
              "livy_statement_state": "available",
              "queued_time": "2022-03-09T17:39:22.1673773Z",
              "session_start_time": null,
              "execution_start_time": "2022-03-09T17:39:22.3464601Z",
              "execution_finish_time": "2022-03-09T17:39:22.501705Z"
            },
            "text/plain": "StatementMeta(dpdevsprkpool01, 2577, 53, Finished, Available)"
          },
          "metadata": {}
        },
        {
          "output_type": "display_data",
          "data": {
            "text/plain": "city\nAberdeen         82\nAbilene          36\nAbsecon          89\nAkron            88\nAlbany           85\n                 ..\nWichita Falls    88\nWilmington       93\nWorcester        45\nYonkers          92\nYork             89\nName: VaccinationDay, Length: 342, dtype: int64"
          },
          "metadata": {}
        }
      ],
      "execution_count": 107,
      "metadata": {
        "jupyter": {
          "source_hidden": false,
          "outputs_hidden": false
        },
        "nteract": {
          "transient": {
            "deleting": false
          }
        }
      }
    }
  ],
  "metadata": {
    "kernelspec": {
      "name": "synapse_pyspark",
      "language": "Python",
      "display_name": "Synapse PySpark"
    },
    "language_info": {
      "name": "python"
    },
    "kernel_info": {
      "name": "synapse_pyspark"
    },
    "save_output": true,
    "synapse_widget": {
      "version": "0.1",
      "state": {}
    }
  },
  "nbformat": 4,
  "nbformat_minor": 2
}